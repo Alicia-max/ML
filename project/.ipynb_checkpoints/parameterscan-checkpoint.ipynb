{
 "cells": [
  {
   "cell_type": "code",
   "execution_count": 17,
   "metadata": {},
   "outputs": [
    {
     "name": "stdout",
     "output_type": "stream",
     "text": [
      "The autoreload extension is already loaded. To reload it, use:\n",
      "  %reload_ext autoreload\n"
     ]
    }
   ],
   "source": [
    "# Useful starting lines\n",
    "%matplotlib inline\n",
    "import numpy as np\n",
    "%load_ext autoreload\n",
    "%autoreload 2\n",
    "\n",
    "#plot library\n",
    "import seaborn as sns\n",
    "import matplotlib.pyplot as plt\n",
    "\n",
    "# Progression bar\n",
    "from tqdm import tqdm"
   ]
  },
  {
   "cell_type": "code",
   "execution_count": 18,
   "metadata": {},
   "outputs": [],
   "source": [
    "from helpers import *\n",
    "from cross_val import *\n",
    "from preprocessing import *\n",
    "from plot import *\n",
    "from run import *"
   ]
  },
  {
   "cell_type": "code",
   "execution_count": 19,
   "metadata": {},
   "outputs": [],
   "source": [
    "DEBUG = False\n",
    "PATH_TRAIN= '../data/train.csv'\n",
    "PATH_TEST = '../data/test.csv'\n",
    "y, tX, ids = load_csv_data(PATH_TRAIN, sub_sample=DEBUG)\n",
    "y_test, tX_test, ids_test = load_csv_data(PATH_TEST, sub_sample=DEBUG)"
   ]
  },
  {
   "cell_type": "markdown",
   "metadata": {},
   "source": [
    "## Notebook for parameter scanning for all the methods we have implemented.\n",
    "Every notebook will be ran for one group (indexed by jet_num) \\\n",
    "For ALL methods we try, if the parameter is relevant:\n",
    "- degree from 1 to 10\n",
    "- lambnda from -8 to 1 in logspace\n",
    "- gamma from -8 to 1 in log space\n",
    "\n",
    "Each generated PDF will be DENSE in information. I suggest looking at the plots at the end of each parameter scans to help you find quickly what is needed. \\\n",
    "Once we run them once, I think we'll be happy to have them for the end of the project, to target what to try and what not to try :) \\\n",
    "Gang"
   ]
  },
  {
   "cell_type": "code",
   "execution_count": 20,
   "metadata": {},
   "outputs": [],
   "source": [
    "# Can be 0, 1, 2, or 3 (with group_ before)\n",
    "GROUP = 'group_0'\n",
    "# Can be 'under', 'over' or None\n",
    "SAMPLING = None\n",
    "# Can be True or False\n",
    "OFFSET = True\n",
    "\n",
    "## Constant values\n",
    "SEED = 1\n",
    "K_FOLD = 5\n",
    "MAX_ITERS = 100"
   ]
  },
  {
   "cell_type": "code",
   "execution_count": 21,
   "metadata": {},
   "outputs": [],
   "source": [
    "def print_best_perfs(idxs, params, acc, std):\n",
    "    for i in range(5):\n",
    "        idx = idxs[i]\n",
    "        print('Ranked {}'.format(i+1))\n",
    "        print('Parameters\\n', params[idx])\n",
    "        print('With validation accuracy {} std {}'.format(acc[idx], std[idx]))\n",
    "        print('\\n')"
   ]
  },
  {
   "cell_type": "markdown",
   "metadata": {},
   "source": [
    "---\n",
    "## In order, the methods to be implemented:\n",
    "- Least Squares GD\n",
    "- Least Squares SGD\n",
    "- Least Squares\n",
    "- Ridge Regression\n",
    "- Logistic Regression\n",
    "- Regularized Logistic Regression\n",
    "---"
   ]
  },
  {
   "cell_type": "code",
   "execution_count": 22,
   "metadata": {},
   "outputs": [],
   "source": [
    "def ParameterScan():\n",
    "\tprint('Starting parameter scan for: Group {}, sampling strategy {} and offset {}'.format(GROUP, SAMPLING, OFFSET))\n",
    "\t\n",
    "\t## Scanning the following parameters\n",
    "\tdegree = np.arange(1, 10)\n",
    "\tgamma = np.logspace(-8, 1, 10)\n",
    "\tlambdas = gamma\n",
    "\t\n",
    "\t####################################\n",
    "\tprint('--------------------------')\n",
    "\tprint('\\nMethod: Least squares GD')\n",
    "\tmethod = least_squares_GD\n",
    "\tparameters_GD = []\n",
    "\n",
    "\tfor d in degree:\n",
    "\t\tfor g in gamma:\n",
    "\t\t\tparameters_GD.append({'gamma':g, 'degree':d, 'max_iters':MAX_ITERS, 'offset': OFFSET})\n",
    "\n",
    "\tacc_tr, acc_val, std_tr, std_val, idx_sorted = cross_tunning(y, x,\n",
    "\t\t\t\t\t\t\t\t\t\t\t k_fold=K_FOLD, method=method , parameters=parameters_GD, seed=SEED, log=False)\n",
    "\n",
    "\tprint_best_perfs(idx_sorted, parameters_GD, acc_val, std_val)\n",
    "\tbest_GD = acc_val[idx_sorted[0]]\n",
    "\t\n",
    "\t####################################\n",
    "\tprint('--------------------------')\n",
    "\tprint('\\nMethod: Least squares SGD')\n",
    "\tmethod = least_squares_SGD\n",
    "\tparameters_SGD = []\n",
    "\n",
    "\tfor d in degree:\n",
    "\t\tfor g in gamma:\n",
    "\t\t\tparameters_SGD.append({'gamma':g, 'degree':d, 'max_iters':MAX_ITERS, 'offset': OFFSET})\n",
    "\n",
    "\tacc_tr, acc_val, std_tr, std_val, idx_sorted = cross_tunning(y, x,\n",
    "\t\t\t\t\t\t\t\t\t\t\t k_fold=K_FOLD, method=method , parameters=parameters_SGD, seed=SEED, log=False)\n",
    "\n",
    "\tprint_best_perfs(idx_sorted, parameters_SGD, acc_val, std_val)\n",
    "\tbest_SGD = acc_val[idx_sorted[0]]\n",
    "\t\n",
    "\t####################################\n",
    "\tprint('--------------------------')\n",
    "\tprint('\\nMethod: Least squares')\n",
    "\tmethod = least_squares\n",
    "\tparameters_LS = []\n",
    "\n",
    "\tfor d in degree:\n",
    "\t\t\tparameters_LS.append({'degree':d, 'offset': OFFSET})\n",
    "\ttry:    \n",
    "\t\tacc_tr, acc_val, std_tr, std_val, idx_sorted = cross_tunning(y, x,\n",
    "\t\t\t\t\t\t\t\t\t\t\t\t k_fold=K_FOLD, method=method , parameters=parameters_LS, seed=SEED, log=False)\n",
    "\t\tprint_best_perfs(idx_sorted, parameters_LS, acc_val, std_val)\n",
    "\t\tbest_LS = acc_val[idx_sorted[0]]\n",
    "\texcept:\n",
    "\t\tprint('Least squares did not work')\n",
    "\t\tbest_LS = .5\n",
    "\t\t\n",
    "\t####################################\n",
    "\tprint('--------------------------')\n",
    "\tprint('\\nMethod: Ridge Regression')\n",
    "\tmethod = ridge_regression\n",
    "\tparameters_RR = []\n",
    "\n",
    "\tfor d in degree:\n",
    "\t\tfor l in lambdas:\n",
    "\t\t\tparameters_RR.append({'lambda_':l, 'degree':d,'offset': OFFSET})\n",
    "\n",
    "\tacc_tr, acc_val, std_tr, std_val, idx_sorted = cross_tunning(y, x,\n",
    "\t\t\t\t\t\t\t\t\t\t\t k_fold=K_FOLD, method=method , parameters=parameters_RR, seed=SEED, log=False)\n",
    "\n",
    "\tprint_best_perfs(idx_sorted, parameters_RR, acc_val, std_val)\n",
    "\tbest_RR = acc_val[idx_sorted[0]]\n",
    "\t\n",
    "\t####################################\n",
    "\tprint('--------------------------')\n",
    "\tprint('\\nMethod: Logistic Regression')\n",
    "\tmethod = logistic_regression\n",
    "\tparameters_LR = []\n",
    "\n",
    "\tfor d in degree:\n",
    "\t\tfor g in gamma:\n",
    "\t\t\tparameters_LR.append({'gamma':g, 'degree':d, 'max_iters':MAX_ITERS, 'offset': OFFSET, 'initial_w':None})\n",
    "\n",
    "\tacc_tr, acc_val, std_tr, std_val, idx_sorted = cross_tunning(y, x,\n",
    "\t\t\t\t\t\t\t\t\t\t\t k_fold=K_FOLD, method=method , parameters=parameters_LR, seed=SEED, log=True)\n",
    "\n",
    "\tprint_best_perfs(idx_sorted, parameters_LR, acc_val, std_val)\n",
    "\tbest_LR = acc_val[idx_sorted[0]]\n",
    "\t\n",
    "\t####################################\n",
    "\tprint('--------------------------')\n",
    "\tprint('\\nMethod: Regularized Logistic Regression')\n",
    "\tmethod = reg_logistic_regression\n",
    "\tlambdas = gamma\n",
    "\tparameters_RLR = []\n",
    "\n",
    "\tfor d in degree:\n",
    "\t\tfor g in gamma:\n",
    "\t\t\tfor l in lambdas:\n",
    "\t\t\t\tparameters_RLR.append({'gamma':g, 'lambda_':l, 'degree':d, 'max_iters':MAX_ITERS, 'offset': OFFSET, 'initial_w':None})\n",
    "\n",
    "\tacc_tr, acc_val, std_tr, std_val, idx_sorted = cross_tunning(y, x,\n",
    "\t\t\t\t\t\t\t\t\t\t\t k_fold=K_FOLD, method=method , parameters=parameters_RLR, seed=SEED, log=True)\n",
    "\n",
    "\tprint_best_perfs(idx_sorted, parameters_RLR, acc_val, std_val)\n",
    "\tbest_RLR = acc_val[idx_sorted[0]]\n",
    "\t\n",
    "\t####################################\n",
    "\tprint('--------------------------')\n",
    "\tprint('\\nPlot of the best methods')\n",
    "\tMethods = ['Least square GD', 'Least square SDG', 'Least square', 'Ridge Regression', 'Logistic', 'Regularized Logistic']\n",
    "\tAccuracy = [best_GD,best_SGD, best_LS, best_RR, best_LR, best_RLR]\n",
    "\n",
    "\n",
    "\tax =sns.relplot(x=Methods, y=Accuracy)\n",
    "\tax.set_xticklabels(rotation = 80)\n",
    "\tplt.title(\"Test Accuracy Model Comparison \\n Group {}, sampling {}, offset {}\".format(GROUP, SAMPLING, OFFSET))\n",
    "\tplt.xlabel('Test Accuracy')\n",
    "\tplt.ylabel('Method')\n",
    "\tplt.show()\n",
    "\tplt.show()"
   ]
  },
  {
   "cell_type": "markdown",
   "metadata": {},
   "source": [
    "---\n",
    "# Parameter scan for Group_0, offset True, sampling None"
   ]
  },
  {
   "cell_type": "code",
   "execution_count": null,
   "metadata": {
    "tags": []
   },
   "outputs": [
    {
     "name": "stdout",
     "output_type": "stream",
     "text": [
      "Starting parameter scan for: Group group_0, sampling strategy None and offset True\n",
      "--------------------------\n",
      "\n",
      "Method: Least squares GD\n",
      "Ranked 1\n",
      "Parameters\n",
      " {'gamma': 0.1, 'degree': 2, 'max_iters': 100, 'offset': True}\n",
      "With validation accuracy 0.827780578804074 std 0.0026614841885769674\n",
      "\n",
      "\n",
      "Ranked 2\n",
      "Parameters\n",
      " {'gamma': 0.1, 'degree': 3, 'max_iters': 100, 'offset': True}\n",
      "With validation accuracy 0.8264999495815267 std 0.004192974362798449\n",
      "\n",
      "\n",
      "Ranked 3\n",
      "Parameters\n",
      " {'gamma': 0.1, 'degree': 6, 'max_iters': 100, 'offset': True}\n",
      "With validation accuracy 0.824765554099022 std 0.00536113166650552\n",
      "\n",
      "\n",
      "Ranked 4\n",
      "Parameters\n",
      " {'gamma': 0.1, 'degree': 4, 'max_iters': 100, 'offset': True}\n",
      "With validation accuracy 0.8244932943430474 std 0.004283256290052307\n",
      "\n",
      "\n",
      "Ranked 5\n",
      "Parameters\n",
      " {'gamma': 0.1, 'degree': 5, 'max_iters': 100, 'offset': True}\n",
      "With validation accuracy 0.8234647574871433 std 0.003934527927705662\n",
      "\n",
      "\n",
      "--------------------------\n",
      "\n",
      "Method: Least squares SGD\n"
     ]
    }
   ],
   "source": [
    "# Can be 0, 1, 2, or 3 (with group_ before)\n",
    "GROUP = 'group_0'\n",
    "# Can be 'under', 'over' or None\n",
    "SAMPLING = None\n",
    "# Can be True or False\n",
    "OFFSET = True\n",
    "\n",
    "preprocessed_X, _, preprocessed_y, _ = preprocess_data_new(tX, tX_test, y, sampling_strategy=SAMPLING)\n",
    "x, y = preprocessed_X[GROUP], preprocessed_y[GROUP]\n",
    "\n",
    "ParameterScan()"
   ]
  },
  {
   "cell_type": "markdown",
   "metadata": {
    "tags": []
   },
   "source": [
    "---\n",
    "# Parameter scan for Group_0, offset True, sampling 'under'"
   ]
  },
  {
   "cell_type": "code",
   "execution_count": null,
   "metadata": {},
   "outputs": [],
   "source": [
    "# Can be 0, 1, 2, or 3 (with group_ before)\n",
    "GROUP = 'group_0'\n",
    "# Can be 'under', 'over' or None\n",
    "SAMPLING = 'under'\n",
    "# Can be True or False\n",
    "OFFSET = True\n",
    "\n",
    "preprocessed_X, _, preprocessed_y, _ = preprocess_data_new(tX, tX_test, y, sampling_strategy=SAMPLING)\n",
    "x, y = preprocessed_X[GROUP], preprocessed_y[GROUP]\n",
    "\n",
    "ParameterScan()"
   ]
  },
  {
   "cell_type": "markdown",
   "metadata": {},
   "source": [
    "---\n",
    "# Parameter scan for Group_0, offset True, sampling 'over'"
   ]
  },
  {
   "cell_type": "code",
   "execution_count": null,
   "metadata": {},
   "outputs": [],
   "source": [
    "# Can be 0, 1, 2, or 3 (with group_ before)\n",
    "GROUP = 'group_0'\n",
    "# Can be 'under', 'over' or None\n",
    "SAMPLING = 'over'\n",
    "# Can be True or False\n",
    "OFFSET = True\n",
    "\n",
    "preprocessed_X, _, preprocessed_y, _ = preprocess_data_new(tX, tX_test, y, sampling_strategy=SAMPLING)\n",
    "x, y = preprocessed_X[GROUP], preprocessed_y[GROUP]\n",
    "\n",
    "ParameterScan()"
   ]
  },
  {
   "cell_type": "markdown",
   "metadata": {},
   "source": [
    "---\n",
    "# Parameter scan for Group_0, offset False, sampling None"
   ]
  },
  {
   "cell_type": "code",
   "execution_count": null,
   "metadata": {},
   "outputs": [],
   "source": [
    "# Can be 0, 1, 2, or 3 (with group_ before)\n",
    "GROUP = 'group_0'\n",
    "# Can be 'under', 'over' or None\n",
    "SAMPLING = None\n",
    "# Can be True or False\n",
    "OFFSET = False\n",
    "\n",
    "preprocessed_X, _, preprocessed_y, _ = preprocess_data_new(tX, tX_test, y, sampling_strategy=SAMPLING)\n",
    "x, y = preprocessed_X[GROUP], preprocessed_y[GROUP]\n",
    "\n",
    "ParameterScan()"
   ]
  },
  {
   "cell_type": "markdown",
   "metadata": {},
   "source": [
    "---\n",
    "# Parameter scan for Group_0, offset False, sampling 'under'"
   ]
  },
  {
   "cell_type": "code",
   "execution_count": null,
   "metadata": {},
   "outputs": [],
   "source": [
    "# Can be 0, 1, 2, or 3 (with group_ before)\n",
    "GROUP = 'group_0'\n",
    "# Can be 'under', 'over' or None\n",
    "SAMPLING = 'under'\n",
    "# Can be True or False\n",
    "OFFSET = False\n",
    "\n",
    "preprocessed_X, _, preprocessed_y, _ = preprocess_data_new(tX, tX_test, y, sampling_strategy=SAMPLING)\n",
    "x, y = preprocessed_X[GROUP], preprocessed_y[GROUP]\n",
    "\n",
    "ParameterScan()"
   ]
  },
  {
   "cell_type": "markdown",
   "metadata": {},
   "source": [
    "---\n",
    "# Parameter scan for Group_0, offset False, sampling 'over'"
   ]
  },
  {
   "cell_type": "code",
   "execution_count": null,
   "metadata": {},
   "outputs": [],
   "source": [
    "# Can be 0, 1, 2, or 3 (with group_ before)\n",
    "GROUP = 'group_0'\n",
    "# Can be 'under', 'over' or None\n",
    "SAMPLING = 'over'\n",
    "# Can be True or False\n",
    "OFFSET = False\n",
    "\n",
    "preprocessed_X, _, preprocessed_y, _ = preprocess_data_new(tX, tX_test, y, sampling_strategy=SAMPLING)\n",
    "x, y = preprocessed_X[GROUP], preprocessed_y[GROUP]\n",
    "\n",
    "ParameterScan()"
   ]
  },
  {
   "cell_type": "code",
   "execution_count": null,
   "metadata": {},
   "outputs": [],
   "source": []
  },
  {
   "cell_type": "code",
   "execution_count": null,
   "metadata": {},
   "outputs": [],
   "source": []
  }
 ],
 "metadata": {
  "kernelspec": {
   "display_name": "Python 3 (ipykernel)",
   "language": "python",
   "name": "python3"
  },
  "language_info": {
   "codemirror_mode": {
    "name": "ipython",
    "version": 3
   },
   "file_extension": ".py",
   "mimetype": "text/x-python",
   "name": "python",
   "nbconvert_exporter": "python",
   "pygments_lexer": "ipython3",
   "version": "3.9.6 (default, Aug  5 2022, 15:21:02) \n[Clang 14.0.0 (clang-1400.0.29.102)]"
  },
  "vscode": {
   "interpreter": {
    "hash": "31f2aee4e71d21fbe5cf8b01ff0e069b9275f58929596ceb00d14d90e3e16cd6"
   }
  }
 },
 "nbformat": 4,
 "nbformat_minor": 4
}
